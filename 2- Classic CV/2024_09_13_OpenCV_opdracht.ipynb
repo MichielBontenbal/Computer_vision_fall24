{
 "cells": [
  {
   "cell_type": "markdown",
   "metadata": {
    "id": "Gf3W1DMWxQU4"
   },
   "source": [
    "# OpenCV Opdrachten\n",
    "- Minor Applied Artificial Intelligence, Hogeschool van Amsterdam (AUAS)\n",
    "- Docenten:  Michiel Bontenbal en Maarten Post\n",
    "- Datum: Vrijdag 13 september 2024\n",
    "\n",
    "### Doel van dit notebook\n",
    "In dit Notebook leer je:\n",
    "\n",
    "- hoe je randen in foto's kan detecteren ('Edge Detection)\n",
    "- hoe je gezichten kan herkennen met Haar Cascade algoritme\n",
    "\n",
    "### Wat je moet doen\n",
    "- Maak de 8 oefeningen in het notebook\n",
    "- Sla het notebook op in je Gitlab & maak aantekeningen in je logboek.\n",
    "\n",
    "### Inhoud\n",
    "0. Installeer en importeer de modules\n",
    "1. Edge Detection met OpenCV\n",
    "2. Detecteer gezichten met Haar Cascade\n",
    "3. Gebruik je webcam\n",
    "\n",
    "### Tutorial\n",
    " \n",
    "**Geeks for Geeks tutorial**\n",
    "\n",
    "https://www.geeksforgeeks.org/opencv-python-tutorial/\n",
    "\n",
    "**OpenCV Python documentatie**\n",
    "\n",
    "https://docs.opencv.org/4.x/d6/d00/tutorial_py_root.html\n",
    "\n",
    "\n",
    "----\n",
    "Acknowledgements: Stijn Oomes"
   ]
  },
  {
   "cell_type": "markdown",
   "metadata": {
    "id": "ESJ9bdd2xQU6"
   },
   "source": [
    "## 0. Installeer en importeer de libraries\n",
    "\n",
    "Als OpenCV niet is geïnstalleerd, installeer deze met onderstaand pip commando.\n",
    "\n",
    "bron: https://pypi.org/project/opencv-python/"
   ]
  },
  {
   "cell_type": "code",
   "execution_count": null,
   "metadata": {},
   "outputs": [],
   "source": [
    "!pip install opencv-python"
   ]
  },
  {
   "cell_type": "markdown",
   "metadata": {
    "id": "cBv0zzpL00ua"
   },
   "source": [
    "Importeer dan de volgende libraries:\n",
    "\n",
    "- `opencv`\n",
    "- `numpy`\n",
    "- `matplotlib` \n",
    "- `PIL` "
   ]
  },
  {
   "cell_type": "code",
   "execution_count": 2,
   "metadata": {
    "id": "lAg5t9cPxQU6"
   },
   "outputs": [],
   "source": [
    "#import the libraries\n",
    "import cv2\n",
    "import numpy as np\n",
    "\n",
    "import matplotlib.pyplot as plt\n",
    "%matplotlib inline\n",
    "\n",
    "from PIL import Image"
   ]
  },
  {
   "cell_type": "code",
   "execution_count": null,
   "metadata": {},
   "outputs": [],
   "source": [
    "#print opencv version\n",
    "print(cv2.__version__)"
   ]
  },
  {
   "cell_type": "markdown",
   "metadata": {},
   "source": [
    "## 1. Edge Detection met OpenCV"
   ]
  },
  {
   "cell_type": "markdown",
   "metadata": {},
   "source": [
    "OpenCV kan beelden inlezen, maar de MatPlotLibrary ook; vanwege heel rare en ingewikkelde problemen is het makkelijker om MatPlotLib te gebruiken. Gebruik het commando ```plt.imread('path-to-image')``` om een plaatje in te lezen.\n",
    "\n",
    "Met MatPlotLib kan je dan ook het plaatje tonen in je notebook. Dit doe je met het commando ```imshow(image)```; ```plt.figure(figsize=(10,10))``` geeft de beeldverhoudingen aan, vierkant in dit geval, en ```plt.axis('off');``` zorgt dat er geen x- en y-as getekend worden, want dat zou er raar uitzien bij een plaatje.\n",
    "\n",
    "Ons advies is om het plaatje 'speelgoed.jpg' te gebruiken. Deze kan je downloaden van DLO in dezelfde folder als dit notebook. Dan werkt onderstaande code erg goed. Als je wilt dan mag je zelf ook een eigen plaatje gebruiken. \n"
   ]
  },
  {
   "cell_type": "markdown",
   "metadata": {},
   "source": [
    "### Importeer en toon een .jpg afbeelding\n",
    "\n",
    "Let op: de code werkt alleen met een .jpg of .jpeg plaatje. Dus géén .png gebruiken.\n",
    "Wij adviseren het plaatje 'speelgoed.jpg' te gebruiken (zie DLO) want dat werkt heel mooi. Wil je een ander plaatje gebruiken, dan mag dat ook."
   ]
  },
  {
   "cell_type": "code",
   "execution_count": null,
   "metadata": {},
   "outputs": [],
   "source": [
    "#CODE EXAMPLE\n",
    "img = plt.imread('speelgoed.jpg')  # select image / change path \n",
    "\n",
    "plt.figure(figsize=(10,10))\n",
    "plt.imshow(img)\n",
    "plt.title('Base image')\n",
    "plt.axis('off');"
   ]
  },
  {
   "cell_type": "markdown",
   "metadata": {},
   "source": [
    "OpenCV heeft ook funkties om de kleur, kleurruimte, van plaatjes te veranderen; ```COLOR_RGB2GRAY``` gaat dus van RGB (kleur) naar gray (grijswaarden). Met het commando ```plt.imshow(gray, cmap='gray')``` zorg je ervoor dat er grijswaarden in de plot gebruikt worden, anders kiest matPlotLib een stadaard kleurenschema dat niet grijs is, een soort geel radarscherm kleurschema...\n",
    "\n",
    "### OEFENING 1: Converteer je plaatje naar grijswaarden\n",
    "\n",
    "\n",
    "Gebruik de Geeks for Geeks tutorial: https://www.geeksforgeeks.org/opencv-python-tutorial/"
   ]
  },
  {
   "cell_type": "code",
   "execution_count": null,
   "metadata": {},
   "outputs": [],
   "source": [
    "#YOUR CODE HERE\n",
    "\n"
   ]
  },
  {
   "cell_type": "code",
   "execution_count": null,
   "metadata": {},
   "outputs": [],
   "source": [
    "#CODE EXAMPLE: plot het plaatje met matplotlib\n",
    "plt.figure(figsize=(10,10))\n",
    "plt.imshow(gray, cmap='gray')\n",
    "plt.axis('off');"
   ]
  },
  {
   "cell_type": "markdown",
   "metadata": {},
   "source": [
    "### Detecteer de randen met het Canny algoritme"
   ]
  },
  {
   "cell_type": "markdown",
   "metadata": {},
   "source": [
    "Een veel voorkomende bewerking in Computer Vision is het herkennen van randen in plaatjes. We gebruiken het Canny algoritme, omdat dat een van de meest gebruikte algoritmes is. Hoe Canny werkt kan je hier nalezen:\n",
    "\n",
    "- https://nl.wikipedia.org/wiki/Canny-randzoeker\n",
    "- https://docs.opencv.org/3.4/da/d22/tutorial_py_canny.html\n",
    "- https://www.geeksforgeeks.org/python-opencv-canny-function/\n",
    "\n",
    "Het commando is ```cv2.Canny(gray, 10, 40)```, waarbij ```gray``` het input plaatje is, de 10 en 40 grenzen zijn wanneer een rand herkend wordt; je gaat in de oefening hier mee spelen. Deze waarden werken goed voor mijn plaatje en vast ook voor jou. Kijk in de documentatie van OpenCV hoe je de waarden kan aanpassen."
   ]
  },
  {
   "cell_type": "code",
   "execution_count": null,
   "metadata": {},
   "outputs": [],
   "source": [
    "#CODE EXAMPLE\n",
    "edges = cv2.Canny(gray, 10, 40)\n",
    "\n",
    "plt.figure(figsize=(10,10))\n",
    "plt.imshow(edges, cmap='gray')\n",
    "plt.title('Canny Edge')\n",
    "plt.axis('off');"
   ]
  },
  {
   "cell_type": "markdown",
   "metadata": {},
   "source": [
    "### OEFENING 2 : Optimale waarden voor Canny Edge\n",
    "\n",
    "Pas de waarden voor de canny edge detectie aan en laat het resultaat zien. Speel hier even mee!"
   ]
  },
  {
   "cell_type": "code",
   "execution_count": null,
   "metadata": {},
   "outputs": [],
   "source": [
    "#YOUR CODE HERE\n"
   ]
  },
  {
   "cell_type": "markdown",
   "metadata": {},
   "source": [
    "### Andere kleurruimtes: HSV"
   ]
  },
  {
   "cell_type": "markdown",
   "metadata": {},
   "source": [
    "Zoals je gezien hebt, zitten er best wat *foute* edges bij. Ook maakt de edge detector geen onderscheid tussen schaduwrandenof highlights en de *echte* randen van het object.\n",
    "\n",
    "Zouden we hier wat aan kunnen doen?\n",
    "\n",
    "*HSV*, Hue, Saturation en Value, is een adere manier om kleuren te beschrijven; je kent het misschien van PhotoShop. \n",
    "\n",
    "- Hue is tint\n",
    "- Saturation is hoeveel van die tint er in zit\n",
    "- Value is de helderheid. \n",
    "\n",
    "Lees onderstaande voor een introductie op HSV:\n",
    "- https://www.geeksforgeeks.org/hsv-color-model-in-computer-graphics/\n"
   ]
  },
  {
   "cell_type": "markdown",
   "metadata": {},
   "source": [
    "### OEFENING 3: Converteer van RGB naar HSV waarden\n",
    "\n",
    "Lees de volgende tutorial en zoek het commando op om je kleurenplaatje om te zetten van RGB => HSV waarden: \n",
    "- https://www.educba.com/opencv-hsv-range/"
   ]
  },
  {
   "cell_type": "code",
   "execution_count": null,
   "metadata": {},
   "outputs": [],
   "source": [
    "#YOUR CODE HERE\n",
    "hsv =\n"
   ]
  },
  {
   "cell_type": "code",
   "execution_count": null,
   "metadata": {},
   "outputs": [],
   "source": [
    "#plot the HSV-image\n",
    "plt.figure(figsize=(10,10))\n",
    "plt.imshow(hsv) #de naam van je hsv-plaatje\n",
    "plt.title('HSV')\n",
    "plt.axis('off');"
   ]
  },
  {
   "cell_type": "markdown",
   "metadata": {},
   "source": [
    "Het wordt pas interessant wanneer we de kleur kanalen apart weergeven."
   ]
  },
  {
   "cell_type": "code",
   "execution_count": null,
   "metadata": {},
   "outputs": [],
   "source": [
    "#CODE EXAMPLE: plot each channel separately\n",
    "plt.figure(figsize=(10,10))\n",
    "plt.imshow(hsv[:,:,0], cmap='gray')\n",
    "plt.axis('off');\n",
    "plt.figure(figsize=(10,10))\n",
    "plt.imshow(hsv[:,:,1], cmap='gray')\n",
    "plt.axis('off');\n",
    "plt.figure(figsize=(10,10))\n",
    "plt.imshow(hsv[:,:,2], cmap='gray')\n",
    "plt.axis('off');"
   ]
  },
  {
   "cell_type": "markdown",
   "metadata": {},
   "source": [
    "Kijk wat er nu veranderd is, wanneer we Canny op de losse kleur kanalen toepassen."
   ]
  },
  {
   "cell_type": "code",
   "execution_count": null,
   "metadata": {},
   "outputs": [],
   "source": [
    "#CODE EXAMPLE. Exercise play with the parameters of v\n",
    "s_edges = cv2.Canny(hsv[:,:,1], 20, 50) #change parameters 'lower' and 'upper' bounds to get optimal result\n",
    "\n",
    "plt.figure(figsize=(10,10))\n",
    "plt.imshow(s_edges, cmap='gray')\n",
    "plt.title('Edges with s-color space')\n",
    "plt.axis('off');"
   ]
  },
  {
   "cell_type": "markdown",
   "metadata": {
    "id": "5YUl9FTCxQU9"
   },
   "source": [
    "## 2. Detecteer gezichten met Haar Cascade"
   ]
  },
  {
   "cell_type": "markdown",
   "metadata": {
    "id": "c7gzvJHv096O"
   },
   "source": [
    "In het college hebben we gesproken over een (verouderde) technologie die jarenlang gebruikt is voor het herkennen objecten in gezichten: Haar Cascade. We gaan deze toch gebruiken, zodat jullie volgende week ook het verschil met moderne technieken als CNN gaan zien.\n"
   ]
  },
  {
   "cell_type": "markdown",
   "metadata": {},
   "source": [
    "### OEFENING 4:  Zoek een plaatje en toon het\n",
    "TO DO:\n",
    "- Zoek een kleuren foto met 7 gezichten of meer.\n",
    "- Laad de afbeelding in met de eerder gebruikte matplotlib code\n",
    "- Laat de foto op het scherm zien. Zet axis op off en geef het plaatje een titel.\n",
    " "
   ]
  },
  {
   "cell_type": "code",
   "execution_count": null,
   "metadata": {
    "colab": {
     "base_uri": "https://localhost:8080/",
     "height": 509
    },
    "id": "b3ZGGSrFxQU-",
    "outputId": "1b3104df-edad-4d3a-e0ab-20819db3f314"
   },
   "outputs": [],
   "source": [
    "# YOUR CODE HERE\n"
   ]
  },
  {
   "cell_type": "markdown",
   "metadata": {},
   "source": [
    "Welk datatype heeft de ingeladen afbeelding?\n",
    "\n",
    "Hoe groot is de afbeelding in pixels?\n",
    "Gebruik de code hieronder."
   ]
  },
  {
   "cell_type": "code",
   "execution_count": null,
   "metadata": {},
   "outputs": [],
   "source": [
    "#print type and shape of image\n",
    "print(type(img))\n",
    "print(img.shape)"
   ]
  },
  {
   "cell_type": "markdown",
   "metadata": {
    "id": "FxqF1aA61QM0"
   },
   "source": [
    "### OEFENING 5: Zet een kleurenplaatje om in een grijswaarden plaatje.\n",
    "\n",
    "(Als je foto al zwart-wit is dan kun je deze stap overslaan.)\n",
    "\n",
    "Gebruik de code van oefening 1\n"
   ]
  },
  {
   "cell_type": "code",
   "execution_count": null,
   "metadata": {
    "id": "MDJGKZYZ1V9t"
   },
   "outputs": [],
   "source": [
    "#YOUR CODE HERE\n"
   ]
  },
  {
   "cell_type": "markdown",
   "metadata": {
    "id": "qUQjJMWexQVB"
   },
   "source": [
    "### Haar Cascade detector\n",
    "\n",
    "\n",
    "Bekijk de eerste minuut van de volgende video waarin een Haar Cascade wordt gevisualiseerd:\n",
    "https://vimeo.com/12774628\n",
    "\n",
    "Haar Cascades gebruiken voorgetrainde modellen. Deze zijn in OpenCV te vinden via ```cv2.data.haarcascades``` method.\n",
    "\n",
    "Een toelichting op Haar Cascade met code voorbeelden kun je hier vinden:\n",
    "https://www.geeksforgeeks.org/face-detection-using-cascade-classifier-using-opencv-python/\n"
   ]
  },
  {
   "cell_type": "markdown",
   "metadata": {
    "id": "zShqMvQt1Ka7"
   },
   "source": [
    "### OEFENING 6: Initieer de Haar Cascade detector\n",
    "\n",
    "To do:\n",
    "- initialiseer de Haar Cascade\n"
   ]
  },
  {
   "cell_type": "code",
   "execution_count": null,
   "metadata": {
    "colab": {
     "base_uri": "https://localhost:8080/"
    },
    "id": "U1DppgPDxQVB",
    "outputId": "4829d8bc-add4-48b0-a591-a466e7cf1d95"
   },
   "outputs": [],
   "source": [
    "# YOUR CODE HERE\n",
    "face_cascade -\n"
   ]
  },
  {
   "cell_type": "markdown",
   "metadata": {
    "id": "2c79rOo-xQVD"
   },
   "source": [
    "### OEFENING 7: Detecteer gezichten"
   ]
  },
  {
   "cell_type": "markdown",
   "metadata": {
    "id": "-U_s3U5V1gW8"
   },
   "source": [
    "Bepaal met de classifier ``face_cascade.detectMultiScale()`` de gezichten in het plaatje.\n",
    "\n",
    "Link: https://www.geeksforgeeks.org/face-detection-using-cascade-classifier-using-opencv-python/\n",
    "\n",
    "Hoeveel heb je er gevonden?"
   ]
  },
  {
   "cell_type": "code",
   "execution_count": null,
   "metadata": {
    "colab": {
     "base_uri": "https://localhost:8080/"
    },
    "id": "WttQVP5sxQVE",
    "outputId": "53c4437e-405d-4ca2-95f8-beb1530b8d53"
   },
   "outputs": [],
   "source": [
    "# YOUR CODE HERE\n",
    "\n",
    "faces =\n"
   ]
  },
  {
   "cell_type": "code",
   "execution_count": null,
   "metadata": {},
   "outputs": [],
   "source": [
    "#print shape[0] van de variable faces.\n",
    "print(\"Aantal gezichten: \" + str(faces.shape[0]))"
   ]
  },
  {
   "cell_type": "code",
   "execution_count": null,
   "metadata": {},
   "outputs": [],
   "source": [
    "# Inspecteer 'faces'. Wat geeft deze array weer denk je?\n",
    "faces"
   ]
  },
  {
   "cell_type": "markdown",
   "metadata": {
    "id": "9lDbNkF3xQVG"
   },
   "source": [
    "### Toon rechthoeken om de gevonden gezichten"
   ]
  },
  {
   "cell_type": "code",
   "execution_count": null,
   "metadata": {
    "colab": {
     "base_uri": "https://localhost:8080/",
     "height": 575
    },
    "id": "_n5kt9KyxQVH",
    "outputId": "7b88077f-0fdc-4947-9d23-ff9dfac0fd0e"
   },
   "outputs": [],
   "source": [
    "# CODE EXAMPLE to show faces\n",
    "\n",
    "for (x,y,w,h) in faces:\n",
    "    cv2.rectangle(img,(x,y),(x+w,y+h),(255,0,0),1) #maakt een rechthoek met de waarden \n",
    "    \n",
    "plt.figure(figsize=(15,10))\n",
    "plt.imshow(img)\n",
    "plt.axis('off');"
   ]
  },
  {
   "cell_type": "markdown",
   "metadata": {
    "id": "0P3WhSnb1nYE"
   },
   "source": [
    "### Evalueer de resultaten"
   ]
  },
  {
   "cell_type": "markdown",
   "metadata": {
    "id": "ShvILkGBUhRg"
   },
   "source": [
    "Vragen:\n",
    "1. Hoe goed is jouw detector in vergelijking met wat je zelf ziet?\n",
    "\n",
    "2. Kun je de parameters van `face_cascade.detectMultiScale` varieren zodat de detectie beter wordt?\n",
    "\n",
    "To do: Maak hierover een aantekening in je logboek. "
   ]
  },
  {
   "cell_type": "markdown",
   "metadata": {},
   "source": [
    "### Detecteer ook de ogen en de mond"
   ]
  },
  {
   "cell_type": "markdown",
   "metadata": {},
   "source": [
    "Hint: er zijn nog meer .xml files met detectoren"
   ]
  },
  {
   "cell_type": "code",
   "execution_count": null,
   "metadata": {},
   "outputs": [],
   "source": [
    "# CODE EXAMPLE\n",
    "img2 = plt.imread('faces.jpg') #change to name/path of your image\n",
    "\n",
    "sc = cv2.CascadeClassifier(cv2.data.haarcascades + 'haarcascade_smile.xml')\n",
    "ec = cv2.CascadeClassifier(cv2.data.haarcascades + 'haarcascade_eye.xml')\n",
    "\n",
    "for (x,y,w,h) in faces:\n",
    "    cv2.rectangle(img2,(x,y),(x+w,y+h),(255,0,0),1)\n",
    "\n",
    "for (x,y,w,h) in faces:\n",
    "    face = img2[y:y+h, x:x+w]\n",
    "    face_gray = face[:,:,1]\n",
    "    smiles = sc.detectMultiScale(face_gray, 1.1, 1, minSize=(5,5), flags=cv2.CASCADE_SCALE_IMAGE)\n",
    "    eyes = ec.detectMultiScale(face_gray, 1.001, 1, minSize=(1,1), flags=cv2.CASCADE_SCALE_IMAGE)\n",
    "    for smile in smiles:\n",
    "        cv2.rectangle(face, smile, (0,255,0), 1)\n",
    "    for eye in eyes:\n",
    "        cv2.rectangle(face, eye, (0,0,255), 1)\n",
    "\n",
    "plt.figure(figsize=(15,10))\n",
    "plt.imshow(img2)\n",
    "plt.axis('off');\n"
   ]
  },
  {
   "cell_type": "markdown",
   "metadata": {},
   "source": [
    "### Bonus: Blur het gezicht\n",
    "Zoek in de Geeks for Geeks tutorial onder 'projects' hoe je het gezicht kunt blurren."
   ]
  },
  {
   "cell_type": "code",
   "execution_count": null,
   "metadata": {},
   "outputs": [],
   "source": [
    "#YOUR CODE HERE"
   ]
  },
  {
   "cell_type": "markdown",
   "metadata": {},
   "source": [
    "## 3. Gebruik de webcam"
   ]
  },
  {
   "cell_type": "markdown",
   "metadata": {},
   "source": [
    "De opencv library wordt (nog steeds) veel gebruikt voor het maken van opnames met een webcam. \n",
    "\n",
    "Zoek in de documentatie van de ``OpenCV`` library naar ``VideoCapture()``. \n",
    "\n",
    "Hint: gebruik de Geeks for Geeks tutorial: https://www.geeksforgeeks.org/opencv-python-tutorial/?ref=lbp  "
   ]
  },
  {
   "cell_type": "markdown",
   "metadata": {},
   "source": [
    "### OEFENING 8: Maak een script waarbij je de camera aanroept"
   ]
  },
  {
   "cell_type": "code",
   "execution_count": null,
   "metadata": {},
   "outputs": [],
   "source": [
    "# YOUR CODE HERE\n"
   ]
  },
  {
   "cell_type": "markdown",
   "metadata": {},
   "source": [
    "# Afronding\n",
    "\n",
    "1. Sla het ingevulde notebook op in je portfolio op GitLab - Minor Logboek AAI.\n",
    "2. Maak een aantekening in je logboek\n"
   ]
  }
 ],
 "metadata": {
  "colab": {
   "name": "2021_02_04_OpenCV_uitwerking.ipynb",
   "provenance": []
  },
  "kernelspec": {
   "display_name": "Python 3 (ipykernel)",
   "language": "python",
   "name": "python3"
  },
  "language_info": {
   "codemirror_mode": {
    "name": "ipython",
    "version": 3
   },
   "file_extension": ".py",
   "mimetype": "text/x-python",
   "name": "python",
   "nbconvert_exporter": "python",
   "pygments_lexer": "ipython3",
   "version": "3.10.6"
  }
 },
 "nbformat": 4,
 "nbformat_minor": 4
}
