{
 "cells": [
  {
   "cell_type": "markdown",
   "metadata": {
    "id": "Nn4Qzgx-2m9Y"
   },
   "source": [
    "# NumPy for Images and Computer Vision\n",
    "\n",
    "- Minor Applied Artificial Intelligence, Hogeschool van Amsterdam (AUAS)\n",
    "- Lecturer: Michiel Bontenbal and Maarten Post\n",
    "- Date: Friday 13 September 2024\n",
    "\n",
    "### Goal of this notebook\n",
    "In this notebook we will use Numpy for images and computer vision. \n",
    "\n",
    "You will:\n",
    "- learn how an image/video can be converted to data as a Numpy array.\n",
    "- learn basics of 'image augmentation'\n",
    "- learn that Numpy array is a fast datatype that can be used for deep learning.\n",
    "\n",
    "\n",
    "### Contents\n",
    "0. Import modules\n",
    "1. Intro numpy arrays\n",
    "2. Images to numpy arrays\n",
    "3. Image data augmentation\n",
    "4. Which one is faster? Numpy array vs python list.\n",
    "\n",
    "----\n",
    "### Sources & further reading:\n",
    " \n",
    "**Python Data Science Handbook - Jake Vanderplas**\n",
    "\n",
    "Chapter 2. Introduction to NumPy\n",
    "- https://learning.oreilly.com/library/view/python-data-science/9781491912126/ch02.html#introduction-to-numpy\n",
    "\n",
    "READ THIS: As a student you have access to O'Reilly books through the HvA libarry:\n",
    "https://lib.hva.nl/permalink/31UKB_UAM2_INST/ooc2dr/alma9939149327405132 \n",
    "and click on proviced link + login etc.\n",
    "\n",
    "### NumPy tutorials\n",
    "\n",
    "You can start your learning journey by looking at the following material:\n",
    "- https://numpy.org/devdocs/user/quickstart.html\n",
    "- https://www.w3schools.com/python/numpy/default.asp\n",
    "\n",
    "----\n",
    "Acknowledgements: Stijn Oomes "
   ]
  },
  {
   "cell_type": "markdown",
   "metadata": {
    "id": "QFTVWQPu1fAf"
   },
   "source": [
    "## 0. Import modules"
   ]
  },
  {
   "cell_type": "code",
   "execution_count": 2,
   "metadata": {
    "colab": {
     "base_uri": "https://localhost:8080/"
    },
    "id": "34e1blkU1jVf",
    "outputId": "f75ca1a0-1c29-4c45-8f67-2a2c8f3c7c5f"
   },
   "outputs": [
    {
     "name": "stdout",
     "output_type": "stream",
     "text": [
      "3.10.6\n"
     ]
    }
   ],
   "source": [
    "# Check your version of python.\n",
    "from platform import python_version\n",
    "print(python_version())"
   ]
  },
  {
   "cell_type": "code",
   "execution_count": 3,
   "metadata": {},
   "outputs": [],
   "source": [
    "#import PIL (Python Image Libary) and Matplotlib for working with images\n",
    "from PIL import Image\n",
    "from matplotlib import pyplot as plt"
   ]
  },
  {
   "cell_type": "markdown",
   "metadata": {},
   "source": [
    "## 1. Intro to numpy arrays\n",
    "\n",
    "The following code is based on based on 'Deep Learning for Python' paragraph 2.2.\n",
    "\n",
    "In this section we'll learn that images can be converted to data in the form of <i>tensors</i>.\n",
    "If you've never heard about tensors before, you can think of them as a container for data. \n",
    "In Numpy tensors are called arrays. \n",
    "\n",
    "Tensors / arrays can come in different shapes, based on the number of dimensions."
   ]
  },
  {
   "cell_type": "markdown",
   "metadata": {},
   "source": [
    "<img src=\"https://cac.cornell.edu/myers/teaching/ComputationalMethods/python/anatomyarray.png\" /> "
   ]
  },
  {
   "cell_type": "code",
   "execution_count": 4,
   "metadata": {},
   "outputs": [
    {
     "name": "stdout",
     "output_type": "stream",
     "text": [
      "12\n",
      "0\n"
     ]
    }
   ],
   "source": [
    "# CODE EXAMPLE 1: convert an integer to a numpy array\n",
    "import numpy as np\n",
    "a = np.array(12) #convert the integer 12 to a numpy array\n",
    "print(a)\n",
    "print(a.ndim) # print the number of dimensions"
   ]
  },
  {
   "cell_type": "markdown",
   "metadata": {},
   "source": [
    "In the example above you see that the number of dimensions was zero, therefore it is called a rank-0 tensor and is known in maths as a 'scalar'. \n",
    "\n",
    "We are interested in the following methods:\n",
    "- ndim = number of dimensions\n",
    "- shape = the shape of the array\n",
    "- dtype = the datatype for example float32, float63 or uint.\n",
    "- nbytes = the size of the array in bytes\n",
    "\n",
    "and to check the type of the python object:\n",
    "- type(a)\n"
   ]
  },
  {
   "cell_type": "markdown",
   "metadata": {},
   "source": [
    "### Exercise 1\n",
    "\n",
    "Look up all in built methods of the given array a with dir()"
   ]
  },
  {
   "cell_type": "code",
   "execution_count": null,
   "metadata": {},
   "outputs": [],
   "source": [
    "#YOUR CODE HERE\n"
   ]
  },
  {
   "cell_type": "markdown",
   "metadata": {},
   "source": [
    "### Exercise 2\n",
    "Print the type, shape, datatype and size of the array given in code example 1"
   ]
  },
  {
   "cell_type": "code",
   "execution_count": null,
   "metadata": {},
   "outputs": [],
   "source": [
    "#YOUR CODE HERE\n"
   ]
  },
  {
   "cell_type": "markdown",
   "metadata": {},
   "source": [
    "In the exercises below you will make tensors with one, two and three dimensions.\n",
    "\n",
    "A list is an tensor with 1 dimension, it's also called a 'vector'."
   ]
  },
  {
   "cell_type": "markdown",
   "metadata": {},
   "source": [
    "### Exercise 3\n",
    "Convert the python list to a Numpy array. Print it and print number of dimensions."
   ]
  },
  {
   "cell_type": "code",
   "execution_count": null,
   "metadata": {},
   "outputs": [],
   "source": [
    "numbers = [2,5,6,7,10]\n",
    "#YOUR CODE HERE\n"
   ]
  },
  {
   "cell_type": "markdown",
   "metadata": {},
   "source": [
    "### Exercise 4:\n",
    "A matrix is a 2D tensor. It consists of columns and rows.\n",
    "Convert the matrix below to a numpy array and check the number of dimensions."
   ]
  },
  {
   "cell_type": "code",
   "execution_count": null,
   "metadata": {},
   "outputs": [],
   "source": [
    "matrix = [[1,2,3],\n",
    "         [4,5,6],\n",
    "         [7,8,9]]\n",
    "\n",
    "#YOUR CODE HERE\n"
   ]
  },
  {
   "cell_type": "markdown",
   "metadata": {},
   "source": [
    "## 2. Convert an image to a Numpy array\n",
    "\n",
    "To convert an image to a numpy array and show it on the screen we will use three modules: \n",
    "1. PIL or Python Image Library, a module for images\n",
    "2. Matplotlib, a widely used plotting libary for plotting the images\n",
    "3. Numpy\n",
    "\n",
    "TO DO: Select an image from the web."
   ]
  },
  {
   "cell_type": "code",
   "execution_count": null,
   "metadata": {},
   "outputs": [],
   "source": [
    "# CODE EXAMPLE 2: Convert an image to an array and plot it\n",
    "\n",
    "#import the modules\n",
    "from PIL import Image\n",
    "import matplotlib.pyplot as plt\n",
    "import numpy as np\n",
    "\n",
    "#open image an convert to numpy array\n",
    "img = Image.open('YOUR_IMAGE.jpg')  # select a .jpg image from the web/your pc \n",
    "a = np.asarray(img)\n",
    "\n",
    "#show the image and shape\n",
    "plt.imshow(a)\n",
    "print(f'Shape: {a.shape}')"
   ]
  },
  {
   "cell_type": "markdown",
   "metadata": {},
   "source": [
    "### Exercise 5: get RGB values\n",
    "Look up 'array indexing' in one of the tutorials.\n",
    "Print the RGB values of pixel (100,200)"
   ]
  },
  {
   "cell_type": "code",
   "execution_count": null,
   "metadata": {},
   "outputs": [],
   "source": [
    "#YOUR CODE HERE\n"
   ]
  },
  {
   "cell_type": "markdown",
   "metadata": {},
   "source": [
    "Bonus: can you change the value of this pixel to black? Print the result."
   ]
  },
  {
   "cell_type": "code",
   "execution_count": null,
   "metadata": {},
   "outputs": [],
   "source": [
    "#YOUR CODE HERE\n"
   ]
  },
  {
   "cell_type": "markdown",
   "metadata": {},
   "source": [
    "## 3. Image data augmentation"
   ]
  },
  {
   "cell_type": "markdown",
   "metadata": {},
   "source": [
    "What you've done in the last exercise is also called 'image data augmentation'. This is a way to make your dataset larger if you have a limited number of images.  \n",
    "\n",
    "For the project of the AAI course, you might want to do a project for Object Detection. If you do such a project you will need to create or augment (=verbeteren) a image dataset. In the next exercise you learn to multiply a set of 10 images to 40 images using Numpy. \n",
    "\n",
    "### TO DO:\n",
    "- Look up the numpy method flip(), fliplr() and flipud().\n",
    "- Look up PIL documentation to do save the image as a new .jpg"
   ]
  },
  {
   "cell_type": "markdown",
   "metadata": {},
   "source": [
    "### Exercise 6: Flip an image left-right\n",
    "\n",
    "To do:\n",
    "- Flip your image left-right and show it using matplotlib\n",
    "- Use PIL to save it as a .jpg.\n",
    "- Show all "
   ]
  },
  {
   "cell_type": "code",
   "execution_count": null,
   "metadata": {},
   "outputs": [],
   "source": [
    "#YOUR CODE HERE\n"
   ]
  },
  {
   "cell_type": "markdown",
   "metadata": {},
   "source": [
    "### Exercise 7: Flip both images up-down\n",
    "\n",
    "- Flip the two images (original + flipped image) up-down and save as jpg.\n",
    "- Show all 4 images here below"
   ]
  },
  {
   "cell_type": "code",
   "execution_count": null,
   "metadata": {},
   "outputs": [],
   "source": [
    "# YOUR CODE HERE\n"
   ]
  },
  {
   "cell_type": "markdown",
   "metadata": {},
   "source": [
    "## 4. Which one is faster? Numpy arrays vs Python lists"
   ]
  },
  {
   "cell_type": "markdown",
   "metadata": {
    "id": "vxmGsI5J1qqn"
   },
   "source": [
    "### Measure execution time\n",
    "First, let's discover two ways of measuring execution time>"
   ]
  },
  {
   "cell_type": "code",
   "execution_count": null,
   "metadata": {
    "colab": {
     "base_uri": "https://localhost:8080/"
    },
    "id": "RvSDJUxqC6uC",
    "outputId": "a51b9295-ff00-4360-ad64-6caac53d4834"
   },
   "outputs": [],
   "source": [
    "#let's create a long list using the random module and calculate the sum\n",
    "import random\n",
    "long_list = [random.random() for i in range(0, 10000000)]\n",
    "print(sum(my_list)) #the sum of all the numbers "
   ]
  },
  {
   "cell_type": "markdown",
   "metadata": {
    "id": "JWE3vFZpDNpT"
   },
   "source": [
    "### Exercise 8: \n",
    "Write a short script that:\n",
    "- get time of the start\n",
    "- calculates the sum of the list\n",
    "- get the time of the end\n",
    "- calculate length of the script by distracting starttime from endtime.\n",
    "\n",
    "Hint: `import time`"
   ]
  },
  {
   "cell_type": "code",
   "execution_count": null,
   "metadata": {
    "colab": {
     "base_uri": "https://localhost:8080/"
    },
    "id": "jedyLrvED20O",
    "outputId": "95bd2d78-2087-4d8f-dff1-6280395ac3c4"
   },
   "outputs": [],
   "source": [
    "#YOUR CODE HERE\n"
   ]
  },
  {
   "cell_type": "markdown",
   "metadata": {
    "id": "V3hOvXpt2tGW"
   },
   "source": [
    "Fortunately there is an easier way, you can use Jupyter Notebook Cell magic %%timeit to measure cell execution time. \n",
    "See the example below."
   ]
  },
  {
   "cell_type": "code",
   "execution_count": null,
   "metadata": {
    "colab": {
     "base_uri": "https://localhost:8080/"
    },
    "id": "klxdgEJrKscp",
    "outputId": "65d4e670-2403-4ede-84bd-23d15f0848c0",
    "scrolled": false
   },
   "outputs": [],
   "source": [
    "%%timeit \n",
    "sum(my_list)"
   ]
  },
  {
   "cell_type": "markdown",
   "metadata": {
    "id": "kt25l3SH1oS_"
   },
   "source": [
    "### 2b. Compare Numpy array with Python list "
   ]
  },
  {
   "cell_type": "markdown",
   "metadata": {
    "id": "uvnfhHXX3fmQ"
   },
   "source": [
    "The code example makes clear that a numpy array is faster than a python list. \n",
    "Read the code carefully and learn what happens. \n",
    "\n",
    "Change the value of the variable 'max_value' so you can learn what happens. "
   ]
  },
  {
   "cell_type": "code",
   "execution_count": null,
   "metadata": {
    "id": "eS7EexvmR8av"
   },
   "outputs": [],
   "source": [
    "#CODE EXAMPLE\n",
    "# a script to compare numpy arrays with python lists\n",
    "import random\n",
    "import numpy as np\n",
    "import matplotlib.pyplot as plt\n",
    "from timeit import default_timer as timer\n",
    "\n",
    "n = 1\n",
    "max_value = 1_000_000 #change to 5, 10 or 50 million.\n",
    "\n",
    "timings_python_list = {}\n",
    "timings_numpy_array = {}\n",
    "\n",
    "while n <= max_value:\n",
    "    python_list = [random.random() for i in range(0, n)]\n",
    "    numpy_array = np.random.randint(255, size=n)\n",
    "\n",
    "    # Time python list sum.\n",
    "    start = timer()\n",
    "    sum(python_list)\n",
    "    end = timer()\n",
    "    timings_python_list[n] = (end - start)\n",
    "    # Time numpy array sum.\n",
    "    start = timer()\n",
    "    numpy_array.sum()\n",
    "    end = timer()\n",
    "    timings_numpy_array[n] = (end - start)\n",
    "\n",
    "    n *= 2\n",
    "\n",
    "plt.plot(timings_python_list.keys(), timings_python_list.values(),'b') #blue: the time of python list\n",
    "plt.plot(timings_numpy_array.keys(), timings_numpy_array.values(),'r') #red: the time of numpy array\n",
    "plt.title('Numpy array (red) vs Python list (blue)')\n",
    "plt.show()"
   ]
  },
  {
   "cell_type": "markdown",
   "metadata": {},
   "source": [
    "### To do\n",
    "\n",
    "Store this notebook in your GitLab"
   ]
  },
  {
   "cell_type": "markdown",
   "metadata": {},
   "source": []
  }
 ],
 "metadata": {
  "accelerator": "GPU",
  "colab": {
   "collapsed_sections": [],
   "name": "2021_02_04_NumPy_uitwerking.ipynb",
   "provenance": []
  },
  "kernelspec": {
   "display_name": "Python 3 (ipykernel)",
   "language": "python",
   "name": "python3"
  },
  "language_info": {
   "codemirror_mode": {
    "name": "ipython",
    "version": 3
   },
   "file_extension": ".py",
   "mimetype": "text/x-python",
   "name": "python",
   "nbconvert_exporter": "python",
   "pygments_lexer": "ipython3",
   "version": "3.10.6"
  }
 },
 "nbformat": 4,
 "nbformat_minor": 1
}
