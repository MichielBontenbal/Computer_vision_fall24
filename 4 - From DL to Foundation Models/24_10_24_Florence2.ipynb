{
 "cells": [
  {
   "cell_type": "markdown",
   "metadata": {},
   "source": [
    "# Florence 2: Vision Language Model with downstream tasks\n",
    "\n",
    "- Minor Applied AI, Hogeschool van Amsterdam\n",
    "- Michiel Bontenbal & Maarten Post\n",
    "- 24 oktober 2024 Computer Vision Lecture 4\n",
    "\n",
    "Florence 2 is a relatively small VLM by Microsoft. There are two versions of the model you can use:\n",
    "1. Florence 2 Base. About 0.5 Gb with ok quality. \n",
    "2. Florence 2 Large. About 1.5 Gb with much better quality. \n",
    "\n",
    "Florence 2 is an Foundation Model that can be applied for several CV tasks. In this notebook we'll do three tasks: Image Caption, Object Detection, Dense Region Caption.\n",
    "\n",
    "In this notebook we'll use Florence 2 with the elephants dataset, you know from ResNet.\n",
    "\n",
    "### Contents\n",
    "1. First image\n",
    "2. Describe images from Elephant Dataset\n",
    "3. Change the task: do Object Detection\n",
    "\n",
    "----\n",
    "source: https://huggingface.co/microsoft/Florence-2-base"
   ]
  },
  {
   "cell_type": "code",
   "execution_count": 32,
   "metadata": {},
   "outputs": [],
   "source": [
    "import requests\n",
    "import torch\n",
    "\n",
    "from PIL import Image\n",
    "from transformers import AutoProcessor, AutoModelForCausalLM \n",
    "\n",
    "#cuda settings\n",
    "device = \"cuda:0\" if torch.cuda.is_available() else \"cpu\"\n",
    "torch_dtype = torch.float16 if torch.cuda.is_available() else torch.float32\n",
    "\n",
    "#SELECT THE MODEL. Florence-2-base is 0.5Gb, large is 1.5Gb. Large has better quality.\n",
    "model_id = 'microsoft/Florence-2-base'\n",
    "#model_id = 'microsoft/Florence-2-large'\n",
    "\n",
    "model = AutoModelForCausalLM.from_pretrained(model_id, torch_dtype=torch_dtype, trust_remote_code=True).to(device)\n",
    "processor = AutoProcessor.from_pretrained(model_id, trust_remote_code=True)"
   ]
  },
  {
   "cell_type": "code",
   "execution_count": null,
   "metadata": {},
   "outputs": [],
   "source": [
    "#download, process and show the image\n",
    "from PIL import Image\n",
    "#url = \"https://huggingface.co/datasets/huggingface/documentation-images/resolve/main/transformers/tasks/car.jpg?download=true\"\n",
    "url= 'https://huggingface.co/datasets/MichielBontenbal/elephants/resolve/main/olifant_foto3.jpg'\n",
    "image = Image.open(requests.get(url, stream=True).raw)\n",
    "image"
   ]
  },
  {
   "cell_type": "code",
   "execution_count": 34,
   "metadata": {},
   "outputs": [],
   "source": [
    "prompt = \"Describe this image\""
   ]
  },
  {
   "cell_type": "code",
   "execution_count": 40,
   "metadata": {},
   "outputs": [],
   "source": [
    "#load the function\n",
    "import torch\n",
    "\n",
    "def generate_image_description(model, processor, prompt, image, device):\n",
    "    \"\"\"\n",
    "    Generate a description for an image using a given model and processor.\n",
    "    \"\"\"\n",
    "    # Prepare inputs\n",
    "    inputs = processor(text=prompt, images=image, return_tensors=\"pt\").to(device, torch_dtype)\n",
    "\n",
    "    # Generate text\n",
    "    generated_ids = model.generate(\n",
    "        input_ids=inputs[\"input_ids\"],\n",
    "        pixel_values=inputs[\"pixel_values\"],\n",
    "        max_new_tokens=1024,\n",
    "        do_sample=False,\n",
    "        num_beams=3,\n",
    "    )\n",
    "\n",
    "    # Decode generated text\n",
    "    generated_text = processor.batch_decode(generated_ids, skip_special_tokens=False)[0]\n",
    "\n",
    "    # Post-process the generated text\n",
    "    parsed_answer = processor.post_process_generation(\n",
    "        generated_text, \n",
    "        task='describe this image', \n",
    "        image_size=(image.width, image.height)\n",
    "    )\n",
    "\n",
    "    return parsed_answer\n",
    "\n"
   ]
  },
  {
   "cell_type": "code",
   "execution_count": null,
   "metadata": {},
   "outputs": [],
   "source": [
    "# Call the function:\n",
    "result = generate_image_description(model, processor, \"Describe this image:\", image, device)\n",
    "print(result)"
   ]
  },
  {
   "cell_type": "markdown",
   "metadata": {},
   "source": [
    "## 2. Load the dataset and describe images"
   ]
  },
  {
   "cell_type": "code",
   "execution_count": null,
   "metadata": {},
   "outputs": [],
   "source": [
    "!git clone https://huggingface.co/datasets/MichielBontenbal/elephants"
   ]
  },
  {
   "cell_type": "code",
   "execution_count": null,
   "metadata": {},
   "outputs": [],
   "source": [
    "#load the images\n",
    "import glob\n",
    "image_list = glob.glob('./elephants/*.jpg')\n",
    "image_list"
   ]
  },
  {
   "cell_type": "code",
   "execution_count": null,
   "metadata": {},
   "outputs": [],
   "source": [
    "#select the image by changing the index\n",
    "image = Image.open(image_list[5])\n",
    "print(type(image))\n",
    "image"
   ]
  },
  {
   "cell_type": "code",
   "execution_count": null,
   "metadata": {},
   "outputs": [],
   "source": [
    "# Call the function:\n",
    "result = generate_image_description(model, processor, \"Describe this image:\", image, device)\n",
    "print(result)"
   ]
  },
  {
   "cell_type": "markdown",
   "metadata": {},
   "source": [
    "## 3. Object detection"
   ]
  },
  {
   "cell_type": "code",
   "execution_count": 44,
   "metadata": {},
   "outputs": [],
   "source": [
    "def run_example(task_prompt, text_input=None):\n",
    "    if text_input is None:\n",
    "        prompt = task_prompt\n",
    "    else:\n",
    "        prompt = task_prompt + text_input\n",
    "    inputs = processor(text=prompt, images=image, return_tensors=\"pt\")#.to('cuda', torch.float16)\n",
    "    generated_ids = model.generate(\n",
    "      input_ids=inputs[\"input_ids\"],#.cuda(),\n",
    "      pixel_values=inputs[\"pixel_values\"],#.cuda(),\n",
    "      max_new_tokens=1024,\n",
    "      early_stopping=False,\n",
    "      do_sample=False,\n",
    "      num_beams=3,\n",
    "    )\n",
    "    generated_text = processor.batch_decode(generated_ids, skip_special_tokens=False)[0]\n",
    "    parsed_answer = processor.post_process_generation(\n",
    "        generated_text,\n",
    "        task=task_prompt,\n",
    "        image_size=(image.width, image.height)\n",
    "    )\n",
    "\n",
    "    return parsed_answer"
   ]
  },
  {
   "cell_type": "code",
   "execution_count": null,
   "metadata": {},
   "outputs": [],
   "source": [
    "task_prompt = '<OD>'\n",
    "results = run_example(task_prompt)\n",
    "print(results)"
   ]
  },
  {
   "cell_type": "code",
   "execution_count": 47,
   "metadata": {},
   "outputs": [],
   "source": [
    "import matplotlib.pyplot as plt\n",
    "import matplotlib.patches as patches\n",
    "def plot_bbox(image, data):\n",
    "   # Create a figure and axes\n",
    "    fig, ax = plt.subplots()\n",
    "\n",
    "    # Display the image\n",
    "    ax.imshow(image)\n",
    "\n",
    "    # Plot each bounding box\n",
    "    for bbox, label in zip(data['bboxes'], data['labels']):\n",
    "        # Unpack the bounding box coordinates\n",
    "        x1, y1, x2, y2 = bbox\n",
    "        # Create a Rectangle patch\n",
    "        rect = patches.Rectangle((x1, y1), x2-x1, y2-y1, linewidth=1, edgecolor='r', facecolor='none')\n",
    "        # Add the rectangle to the Axes\n",
    "        ax.add_patch(rect)\n",
    "        # Annotate the label\n",
    "        plt.text(x1, y1, label, color='white', fontsize=8, bbox=dict(facecolor='red', alpha=0.5))\n",
    "\n",
    "    # Remove the axis ticks and labels\n",
    "    ax.axis('off')\n",
    "\n",
    "    # Show the plot\n",
    "    plt.show()"
   ]
  },
  {
   "cell_type": "code",
   "execution_count": null,
   "metadata": {},
   "outputs": [],
   "source": [
    "plot_bbox(image, results['<OD>'])"
   ]
  },
  {
   "cell_type": "markdown",
   "metadata": {},
   "source": [
    "## Exercise 1: Change to another task: Dense region caption\n",
    "\n",
    "1. Look-up https://huggingface.co/microsoft/Florence-2-base.\n",
    "2. There you will find another Jupyter Notebook with example code. \n",
    "3. Look for the task 'Dense region caption'.\n"
   ]
  },
  {
   "cell_type": "code",
   "execution_count": 49,
   "metadata": {},
   "outputs": [],
   "source": [
    "#YOUR CODE HERE"
   ]
  },
  {
   "cell_type": "markdown",
   "metadata": {},
   "source": [
    "### Reflectievragen\n",
    "\n",
    "Hier laat je zien dat je de code begrepen hebt.\n",
    "\n",
    "1. Hoe groot is florence-2-base en hoe groot is florence-2-large?\n",
    "2. Hoe groot is Llava-Next? (Zoek op Huggingface naar llava-hf/llava-v1.6-mistral-7b-hf. Onder 'files and versions' staan de .safetensor-files. Hoeveel zijn dat er en hoe groot zijn ze samen?)\n",
    "3. Welke taken kan je uitvoeren met Florence-2? \n",
    "4. Wat betreft de olifanten dataset. Hoe veel beter is Florence 2 dan ResNet met de olifanten dataset?\n"
   ]
  },
  {
   "cell_type": "markdown",
   "metadata": {},
   "source": []
  }
 ],
 "metadata": {
  "kernelspec": {
   "display_name": "Python 3",
   "language": "python",
   "name": "python3"
  },
  "language_info": {
   "codemirror_mode": {
    "name": "ipython",
    "version": 3
   },
   "file_extension": ".py",
   "mimetype": "text/x-python",
   "name": "python",
   "nbconvert_exporter": "python",
   "pygments_lexer": "ipython3",
   "version": "3.10.9"
  }
 },
 "nbformat": 4,
 "nbformat_minor": 2
}
