{
 "cells": [
  {
   "cell_type": "markdown",
   "metadata": {},
   "source": [
    "# You Only Look Once\n",
    "\n",
    "- Minor Applied AI, Hogeschool van Amsterdam\n",
    "- Computer Vision lesson 4\n",
    "- Lecturers: Michiel Bontenbal and Maarten Post\n",
    "- 24 October 2024\n",
    "\n",
    "You Only Look Once or YOLO is one of the most popular Object Detection Models. \n",
    "\n",
    "Use the notebook to run the code.\n",
    "\n",
    "### Contents\n",
    "0. Installs and imports\n",
    "1. Select model and image\n",
    "2. Run inference"
   ]
  },
  {
   "cell_type": "markdown",
   "metadata": {},
   "source": [
    "## 0. Installs and imports"
   ]
  },
  {
   "cell_type": "code",
   "execution_count": 1,
   "metadata": {},
   "outputs": [],
   "source": [
    "#!pip install --upgrade ultralytics"
   ]
  },
  {
   "cell_type": "code",
   "execution_count": null,
   "metadata": {},
   "outputs": [],
   "source": [
    "import ultralytics\n",
    "ultralytics.__version__"
   ]
  },
  {
   "cell_type": "markdown",
   "metadata": {},
   "source": [
    "## 1. Select model and image"
   ]
  },
  {
   "cell_type": "code",
   "execution_count": null,
   "metadata": {},
   "outputs": [],
   "source": [
    "from ultralytics import YOLO\n",
    "\n",
    "# Load a pretrained YOLO model. This code will automatically download a model.\n",
    "#model = YOLO('yolov9c.pt')\n",
    "model = YOLO('yolo11n.pt')\n"
   ]
  },
  {
   "cell_type": "code",
   "execution_count": null,
   "metadata": {},
   "outputs": [],
   "source": [
    "#get the image\n",
    "import IPython\n",
    "import wget\n",
    "url = \"http://images.cocodataset.org/val2017/000000039769.jpg\"\n",
    "img = wget.download(url)\n",
    "IPython.display.Image(img, width=400)"
   ]
  },
  {
   "cell_type": "markdown",
   "metadata": {},
   "source": [
    "## 2. Train model and run inference"
   ]
  },
  {
   "cell_type": "code",
   "execution_count": null,
   "metadata": {},
   "outputs": [],
   "source": [
    "# Train the model on the COCO8 example dataset for 100 epochs\n",
    "results = model.train(data=\"coco8.yaml\", epochs=10, imgsz=640)"
   ]
  },
  {
   "cell_type": "code",
   "execution_count": null,
   "metadata": {},
   "outputs": [],
   "source": [
    "# Run inference with the YOLO11n model on the 'bus.jpg' image\n",
    "image_path = '000000039769.jpg'\n",
    "results = model(image_path)"
   ]
  },
  {
   "cell_type": "code",
   "execution_count": 11,
   "metadata": {},
   "outputs": [],
   "source": [
    "# Process and display results\n",
    "for result in results:\n",
    "    boxes = result.boxes  # Bounding boxes"
   ]
  },
  {
   "cell_type": "code",
   "execution_count": null,
   "metadata": {},
   "outputs": [],
   "source": [
    "%matplotlib inline\n",
    "\n",
    "import matplotlib.pyplot as plt\n",
    "from PIL import Image\n",
    "\n",
    "image = Image.open(image_path)\n",
    "\n",
    "# Create a figure and axis\n",
    "fig, ax = plt.subplots(1, figsize=(12, 9))\n",
    "\n",
    "# Display the image\n",
    "ax.imshow(image)\n",
    "\n",
    "# Create rectangles\n",
    "for box in boxes:\n",
    "        x1, y1, x2, y2 = box.xyxy[0]  # Get box coordinates\n",
    "        class_id = box.cls[0].item()  # Get class ID\n",
    "        conf = box.conf[0].item()  # Get confidence score\n",
    "        print(f\"Detected object: Class {class_id}, Confidence: {conf:.2f}, Bounding Box: ({x1:.2f}, {y1:.2f}, {x2:.2f}, {y2:.2f})\")\n",
    "        rect = plt.Rectangle((x1, y1), x2-x1, y2-y1, fill=False, edgecolor='red', linewidth=2)\n",
    "        ax.add_patch(rect)\n",
    "        \n",
    "        # Add label\n",
    "        label = f\"{model.names[class_id]} {conf:.2f}\"\n",
    "        ax.text(x1, y1, label, color='red', fontsize=10, backgroundcolor='white')\n",
    "\n",
    "# Remove axis ticks\n",
    "ax.set_xticks([])\n",
    "ax.set_yticks([])\n",
    "\n",
    "# Show the plot\n",
    "plt.show()"
   ]
  },
  {
   "cell_type": "markdown",
   "metadata": {},
   "source": [
    "### Exercise 1: Reflectievragen\n",
    "\n",
    "Beantwoord de volgende vragen.\n",
    "\n",
    "1. Beschrijf in je eigen woorden hoe YOLO werkt\n",
    "2. Vergelijk de modellen op de website van Ultralytics: https://docs.ultralytics.com/models/yolo11/#performance-metrics. Welke trade-off kan je maken? Wanneer kies je YOLO11n en wanneer YOLO11x?\n",
    "3. Onderzoek de COCO dataset via https://cocodataset.org/#home. Waarom werkt COCO wel voor object detection en (bijvoorbeeld) ImageNet niet?\n",
    "4. Vergelijk de uitkomsten van YOLO met DETR. Wat valt je op?\n",
    "\n"
   ]
  },
  {
   "cell_type": "markdown",
   "metadata": {},
   "source": []
  }
 ],
 "metadata": {
  "kernelspec": {
   "display_name": "Python 3",
   "language": "python",
   "name": "python3"
  },
  "language_info": {
   "codemirror_mode": {
    "name": "ipython",
    "version": 3
   },
   "file_extension": ".py",
   "mimetype": "text/x-python",
   "name": "python",
   "nbconvert_exporter": "python",
   "pygments_lexer": "ipython3",
   "version": "3.10.9"
  }
 },
 "nbformat": 4,
 "nbformat_minor": 2
}
