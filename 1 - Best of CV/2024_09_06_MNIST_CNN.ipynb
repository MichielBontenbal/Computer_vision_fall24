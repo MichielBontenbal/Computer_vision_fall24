{
 "cells": [
  {
   "cell_type": "markdown",
   "metadata": {
    "id": "zUWF7J_ASRv3"
   },
   "source": [
    "# Herkenning van handgeschreven cijfers met CNN\n",
    "\n",
    "## Convolutionele Neurale Netwerken\n",
    "\n",
    "- Minor AAI - Hogeschool van Amsterdam\n",
    "- Docenten:  Michiel Bontenbal & Maarten Post\n",
    "- Vrijdag 6 september 2024\n",
    "\n",
    "### Boek & tutorials:\n",
    "\n",
    "**Deep Learning with Python - Francois Chollet - Chapter 8**\n",
    "- https://learning-oreilly-com.rps.hva.nl/library/view/deep-learning-with/9781617296864/\n",
    "\n",
    "**Tutorials**\n",
    "- https://keras.io/examples/vision/mnist_convnet/ \n",
    "- https://www.geeksforgeeks.org/applying-convolutional-neural-network-on-mnist-dataset/ "
   ]
  },
  {
   "cell_type": "markdown",
   "metadata": {
    "id": "cRKUniK0SfRg"
   },
   "source": [
    "## Importeer libraries & check versions"
   ]
  },
  {
   "cell_type": "code",
   "execution_count": null,
   "metadata": {
    "id": "S-aMKgrbSl6I"
   },
   "outputs": [],
   "source": [
    "#import libraries. Ignore a potential tensorflow warning.\n",
    "\n",
    "#Import keras methods. Study this for a moment, as this is important\n",
    "from keras import models, layers, datasets\n",
    "\n",
    "#These are the layers in the deep learning model\n",
    "from keras.layers import Conv2D, MaxPooling2D, AveragePooling2D, Flatten, Dense, Dropout\n",
    "\n",
    "#import numpy and matplotlib \n",
    "import numpy as np\n",
    "import matplotlib.pyplot as plt\n",
    "\n",
    "#import a tensorflow utensil\n",
    "from tensorflow.keras.utils import to_categorical"
   ]
  },
  {
   "cell_type": "code",
   "execution_count": null,
   "metadata": {},
   "outputs": [],
   "source": [
    "from platform import python_version\n",
    "print(python_version())"
   ]
  },
  {
   "cell_type": "code",
   "execution_count": null,
   "metadata": {},
   "outputs": [],
   "source": [
    "import keras\n",
    "keras.__version__"
   ]
  },
  {
   "cell_type": "markdown",
   "metadata": {
    "id": "oe0on0c2StYe"
   },
   "source": [
    "## Verover de data"
   ]
  },
  {
   "cell_type": "code",
   "execution_count": null,
   "metadata": {
    "colab": {
     "base_uri": "https://localhost:8080/"
    },
    "id": "gh2EoCY-Ssg7",
    "outputId": "f52aab3d-b6e9-4490-d5db-612f49a18e1b"
   },
   "outputs": [],
   "source": [
    "#load dataset from Keras and split into train and test sets\n",
    "(train_images, train_labels), (test_images, test_labels) = datasets.mnist.load_data()"
   ]
  },
  {
   "cell_type": "code",
   "execution_count": null,
   "metadata": {
    "colab": {
     "base_uri": "https://localhost:8080/"
    },
    "id": "7FlNpFtxSrMQ",
    "outputId": "a51d1184-a362-42ee-86cd-50dd4bd018b0"
   },
   "outputs": [],
   "source": [
    "train_images.shape"
   ]
  },
  {
   "cell_type": "code",
   "execution_count": null,
   "metadata": {
    "colab": {
     "base_uri": "https://localhost:8080/"
    },
    "id": "FBfuBT6ATHyg",
    "outputId": "f6a74f22-c809-4078-a46c-a55b86f0a39b"
   },
   "outputs": [],
   "source": [
    "train_labels.shape"
   ]
  },
  {
   "cell_type": "markdown",
   "metadata": {
    "id": "jG7BXYcRYY5a"
   },
   "source": [
    "## Prepareer de images\n",
    "\n",
    "* normalizeren --> pixel waardes tussen 0.0 en 1.0\n",
    "* reshapen --> extra dimensie!"
   ]
  },
  {
   "cell_type": "code",
   "execution_count": null,
   "metadata": {
    "colab": {
     "base_uri": "https://localhost:8080/"
    },
    "id": "dDYk2OREYbGD",
    "outputId": "4c29d829-f413-4789-e870-6611d63cf72a"
   },
   "outputs": [],
   "source": [
    "train_images.shape"
   ]
  },
  {
   "cell_type": "code",
   "execution_count": null,
   "metadata": {
    "id": "bafaBFuypcEY"
   },
   "outputs": [],
   "source": [
    "train_images_normalized = train_images.astype('float32')/255"
   ]
  },
  {
   "cell_type": "code",
   "execution_count": null,
   "metadata": {
    "id": "qPLYzqeeYeV0"
   },
   "outputs": [],
   "source": [
    "train_images_enhanced = train_images_normalized.reshape(60000,28,28,1)"
   ]
  },
  {
   "cell_type": "code",
   "execution_count": null,
   "metadata": {
    "colab": {
     "base_uri": "https://localhost:8080/"
    },
    "id": "h3vOWjp2YwS_",
    "outputId": "aaba4242-1580-4a28-f967-c16c39301fff"
   },
   "outputs": [],
   "source": [
    "train_images_enhanced.shape"
   ]
  },
  {
   "cell_type": "code",
   "execution_count": null,
   "metadata": {},
   "outputs": [],
   "source": [
    "#show the first image\n",
    "import matplotlib.pyplot as plt\n",
    "image = train_images[0]\n",
    "plt.imshow(image, cmap=plt.cm.binary)\n",
    "plt.show\n",
    "print(f'The label is: {train_labels[0]}')"
   ]
  },
  {
   "cell_type": "code",
   "execution_count": null,
   "metadata": {},
   "outputs": [],
   "source": [
    "#Check the pixelvalues of the image\n",
    "train_images[0]"
   ]
  },
  {
   "cell_type": "markdown",
   "metadata": {},
   "source": [
    "### OEFENING 1: Doe hetzelfde met de test images als wat hierboven met de train images is gedaan."
   ]
  },
  {
   "cell_type": "code",
   "execution_count": null,
   "metadata": {
    "id": "Rt4W7_fIYyuA"
   },
   "outputs": [],
   "source": [
    "# YOUR CODE HERE\n"
   ]
  },
  {
   "cell_type": "code",
   "execution_count": null,
   "metadata": {},
   "outputs": [],
   "source": [
    "# YOUR CODE HERE\n",
    "test_images_enhanced # = ?"
   ]
  },
  {
   "cell_type": "code",
   "execution_count": null,
   "metadata": {
    "colab": {
     "base_uri": "https://localhost:8080/"
    },
    "id": "4C3y58dJY5tp",
    "outputId": "a9253636-a47e-4c43-89e1-49e5d7164dc2"
   },
   "outputs": [],
   "source": [
    "# YOUR CODE HERE\n",
    "test_images_enhanced.shape"
   ]
  },
  {
   "cell_type": "markdown",
   "metadata": {
    "id": "jb2JCpgYUWlu"
   },
   "source": [
    "## Prepareer de labels"
   ]
  },
  {
   "cell_type": "markdown",
   "metadata": {
    "id": "xB3XhWK_D_ZW"
   },
   "source": [
    "### OEFENING 2: Zet de labels om naar vectoren met 'one-hot encoding'. \n",
    "\n",
    "One-hot encoding wordt gebruikt om van het label (een categorie) een 1D-array (vector) te maken. \n",
    "\n",
    "Hint: zoek op ```to_categorical``` in de keras documentatie."
   ]
  },
  {
   "cell_type": "code",
   "execution_count": null,
   "metadata": {
    "colab": {
     "base_uri": "https://localhost:8080/"
    },
    "id": "GKRqlPkMU6tj",
    "outputId": "4bf786ce-a08f-4074-9299-1618b6ee2e71"
   },
   "outputs": [],
   "source": [
    "train_labels"
   ]
  },
  {
   "cell_type": "code",
   "execution_count": null,
   "metadata": {
    "id": "8_Jmmw6MUOy-"
   },
   "outputs": [],
   "source": [
    "# YOUR CODE HERE\n",
    "train_labels_encoded # = ?\n",
    "test_labels_encoded # = ?"
   ]
  },
  {
   "cell_type": "code",
   "execution_count": null,
   "metadata": {
    "colab": {
     "base_uri": "https://localhost:8080/"
    },
    "id": "7V_g1CMBUb_7",
    "outputId": "b2fe5641-d4c5-4e33-bbb9-a2851e787f60"
   },
   "outputs": [],
   "source": [
    "train_labels_encoded"
   ]
  },
  {
   "cell_type": "code",
   "execution_count": null,
   "metadata": {},
   "outputs": [],
   "source": [
    "test_labels_encoded"
   ]
  },
  {
   "cell_type": "markdown",
   "metadata": {
    "id": "m_2zOWq_ZAY-"
   },
   "source": [
    "## Maak het CNN-model"
   ]
  },
  {
   "cell_type": "markdown",
   "metadata": {
    "id": "_cS-T3cWEfZh"
   },
   "source": [
    "### OEFENING 3: voeg Conv2D en/of Pooling la(a)g(en) toe."
   ]
  },
  {
   "cell_type": "code",
   "execution_count": null,
   "metadata": {
    "id": "yfUEGL0bY77-"
   },
   "outputs": [],
   "source": [
    "cnn = models.Sequential()\n",
    "\n",
    "cnn.add(Conv2D(filters=32,\n",
    "                  kernel_size=(3, 3),\n",
    "                  activation='relu', \n",
    "                  input_shape=(28,28,1),\n",
    "                  strides=(1, 1))) #kernel 1 step to right, 1 step down\n",
    "\n",
    "cnn.add(MaxPooling2D(pool_size=(2,2), strides=(2,2)))\n",
    "\n",
    "#YOUR CODE EDIT HERE\n",
    "\n",
    "cnn.add(Flatten())\n",
    "\n",
    "cnn.add(Dense(units=64, activation='relu'))\n",
    "cnn.add(Dense(units=10, activation = 'softmax'))"
   ]
  },
  {
   "cell_type": "code",
   "execution_count": null,
   "metadata": {
    "colab": {
     "base_uri": "https://localhost:8080/"
    },
    "id": "XsJ8orLUZRR5",
    "outputId": "b22c4db0-254b-4e86-83e3-76131e183e1c"
   },
   "outputs": [],
   "source": [
    "cnn.summary()"
   ]
  },
  {
   "cell_type": "code",
   "execution_count": null,
   "metadata": {
    "id": "FXYJJMAJa_Tf"
   },
   "outputs": [],
   "source": [
    "cnn.compile(optimizer='adam',\n",
    "            metrics = ['accuracy'],\n",
    "            loss = 'categorical_crossentropy')"
   ]
  },
  {
   "cell_type": "code",
   "execution_count": null,
   "metadata": {
    "colab": {
     "base_uri": "https://localhost:8080/"
    },
    "id": "fsCH8KqEbR2P",
    "outputId": "e3d03e5d-e3e7-4225-ba65-605eb2d295aa"
   },
   "outputs": [],
   "source": [
    "\n",
    "history_cnn = cnn.fit(train_images_enhanced,\n",
    "        train_labels_encoded,\n",
    "        epochs = 3, \n",
    "        batch_size = 128,\n",
    "        validation_data = (test_images_enhanced, test_labels_encoded))\n",
    "\n",
    "history_cnn\n"
   ]
  },
  {
   "cell_type": "code",
   "execution_count": null,
   "metadata": {
    "colab": {
     "base_uri": "https://localhost:8080/"
    },
    "id": "S52r-pcHbtJJ",
    "outputId": "4a887c82-761c-44fa-86a6-d0fd48ce0300"
   },
   "outputs": [],
   "source": [
    "# do the testing\n",
    "loss, acc = cnn.evaluate(test_images_enhanced,\n",
    "                         test_labels_encoded)\n",
    "print(acc)"
   ]
  },
  {
   "cell_type": "markdown",
   "metadata": {},
   "source": [
    "### OEFENING 4: voeg labels aan deze grafiek toe"
   ]
  },
  {
   "cell_type": "code",
   "execution_count": null,
   "metadata": {
    "colab": {
     "base_uri": "https://localhost:8080/",
     "height": 269
    },
    "id": "fspLE94uj_0p",
    "outputId": "fe013ce6-10a1-4585-e1a8-eddf471cdca9"
   },
   "outputs": [],
   "source": [
    "plt.plot(history_cnn.history['accuracy'], 'blue')\n",
    "plt.plot(history_cnn.history['val_accuracy'],'red')\n",
    "plt.ylim(0.75,1.0)\n",
    "plt.show()"
   ]
  },
  {
   "cell_type": "markdown",
   "metadata": {
    "id": "ycBT1S6wIK7y"
   },
   "source": [
    "## Evalueer cijferherkenning CNN"
   ]
  },
  {
   "cell_type": "markdown",
   "metadata": {
    "id": "xm7oOIZxGFYw"
   },
   "source": [
    "#### OPDRACHT: Pas je CNN aan. \n",
    "\n",
    "Je kan je CNN verder optimaliseren door de Hyperparameters aan te passen. Dit zijn bijvoorbeeld:\n",
    "- extra lagen in het CNN (Conv2D, Pooling, Dense)\n",
    "- Kernel size variëren (bijv. 2e Conv2D laag grotere kernel) \n",
    "- Aantal filters \n",
    "- Average pooling vs Max Pooling. Pool_size en Strides\n",
    "- Eventueel een dropout laag toevoegen (voorkomt o.a. overfitting)\n",
    "- aantal epochs\n",
    "\n",
    "Ook interessante oefening: haal de 2D en pooling layers eens weg. Werkt het dan nog steeds? Wat is je accuracy?\n",
    "\n",
    "Maak aantekeningen (in dit notebook) zodat je weet welke aanpassing welke verbetering opleverde.\n"
   ]
  },
  {
   "cell_type": "markdown",
   "metadata": {},
   "source": [
    "#### Reflectie\n",
    "Deze vragen gaan over het begrip van het model wat je hebt gebruikt. \n",
    "Beantwoord de volgende vragen in je eigen woorden. \n",
    "\n",
    "1. Welke lagen heb je gebruikt in je model?\n",
    "\n",
    "2. Beschrijf kort hoe de Conv2D laag werkt (in je eigen woorden)\n",
    "\n",
    "3. Waarom gebruik je een pooling laag?\n",
    "\n",
    "4. Wat doet de dense laag?"
   ]
  },
  {
   "cell_type": "markdown",
   "metadata": {
    "id": "xTdfwGeRGjCB"
   },
   "source": [
    "### To do: \n",
    "1. Upload de notebooks naar je Gitlab\n",
    "2. maak een aantekening in je logboek\n",
    "3. werk je Bloom-tabel bij."
   ]
  }
 ],
 "metadata": {
  "accelerator": "GPU",
  "colab": {
   "name": "2021_02_11 MNIST CNN uitwerking.ipynb",
   "provenance": []
  },
  "kernelspec": {
   "display_name": "Python 3 (ipykernel)",
   "language": "python",
   "name": "python3"
  },
  "language_info": {
   "codemirror_mode": {
    "name": "ipython",
    "version": 3
   },
   "file_extension": ".py",
   "mimetype": "text/x-python",
   "name": "python",
   "nbconvert_exporter": "python",
   "pygments_lexer": "ipython3",
   "version": "3.10.6"
  }
 },
 "nbformat": 4,
 "nbformat_minor": 1
}
