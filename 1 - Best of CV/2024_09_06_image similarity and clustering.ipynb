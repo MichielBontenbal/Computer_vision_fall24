{
 "cells": [
  {
   "cell_type": "markdown",
   "id": "3a53c74b",
   "metadata": {},
   "source": [
    "# Use CLIP embeddings to find similar images and to cluster images.\n",
    "\n",
    "- Minor AAI - Hogeschool van Amsterdam\n",
    "- Docenten:  Michiel Bontenbal & Maarten Post\n",
    "- Vrijdag 6 september 2024"
   ]
  },
  {
   "cell_type": "markdown",
   "id": "a6e6c51e",
   "metadata": {},
   "source": [
    "In this notebook you learn about two applications for cosine similarity: finding similar images and clustering similar images.\n",
    "\n",
    "First, we'll get an understanding how the maths for cosine similarity work using a basic example.\n",
    "Next, we'll calculatie the similarity between two images.\n",
    "Third, we'll find similar images from a set of images. \n",
    "And finally, we'll cluster images based on their similarity.\n",
    "\n",
    "### Contents\n",
    "1. Intro:  calculate the cosine similarity (nl: cosinusgelijkenis)\n",
    "2. Calculate cosine similarity for 2 images\n",
    "3. Find similar images with cosine similarity\n",
    "4. Clustering images with cosine similarity and KMeans clustering\n",
    "\n",
    "### Sources\n",
    "- https://nl.wikipedia.org/wiki/Cosinusgelijkenis\n",
    "- https://openai.com/research/clip\n",
    "- https://medium.com/@jeremy-k/unlocking-openai-clip-part-2-image-similarity-bf0224ab5bb0\n",
    "- https://www.geeksforgeeks.org/how-to-calculate-cosine-similarity-in-python/\n",
    "- https://www.geeksforgeeks.org/python-measure-similarity-between-two-sentences-using-cosine-similarity/"
   ]
  },
  {
   "cell_type": "markdown",
   "id": "feb0cdc3",
   "metadata": {},
   "source": [
    "## 1. Intro:  calculate the cosine similarity (nl: cosinusgelijkenis)\n",
    "\n",
    "To calculate the cosine similarity we take to vectors (A,B). \n",
    "\n",
    "We then calculate their dotproduct and devide it by the product of the normalized vectors. \n",
    "\n",
    "cos(θ) = (A · B) / (||A|| ||B||)\n",
    "\n",
    "See below. "
   ]
  },
  {
   "cell_type": "code",
   "execution_count": null,
   "id": "28728357",
   "metadata": {},
   "outputs": [],
   "source": [
    "#Define two points\n",
    "\n",
    "# Choose values [1-10] (integers/floats) to properly plot it below\n",
    "\n",
    "# point 1\n",
    "p1x = 4\n",
    "p1y = 3\n",
    "\n",
    "#point 2\n",
    "p2x = 3\n",
    "p2y = 4"
   ]
  },
  {
   "cell_type": "code",
   "execution_count": null,
   "id": "84e285af",
   "metadata": {},
   "outputs": [],
   "source": [
    "#function to calculate cosine similarity\n",
    "def cosine_similarity(a, b):\n",
    "    dot_product = sum(x * y for x, y in zip(a, b))\n",
    "    magnitude_a = sum(x * x for x in a) ** 0.5\n",
    "    magnitude_b = sum(x * x for x in b) ** 0.5\n",
    "    return dot_product / (magnitude_a * magnitude_b)\n",
    "\n",
    "cosine_similarity((p1x,p1y), (p2x,p2y))"
   ]
  },
  {
   "cell_type": "code",
   "execution_count": null,
   "id": "40a4c942",
   "metadata": {
    "scrolled": true
   },
   "outputs": [],
   "source": [
    "#plot the points and create a vector from 0,0\n",
    "%matplotlib inline\n",
    "import matplotlib.pyplot as plt \n",
    "\n",
    "#get points and plot them\n",
    "points_x = p1x, p2x\n",
    "points_y = p1y, p2y\n",
    "plt.plot(points_x, points_y, 'o') \n",
    "\n",
    "#plot vectors \n",
    "plt.quiver([0, 0], [0, 0], [p1x, p2x], [p1y,p2y], angles='xy', scale_units='xy', scale=1)\n",
    "\n",
    "#plot axes and show it\n",
    "plt.xlim(0, 10)\n",
    "plt.ylim(0, 10)\n",
    "plt.show()"
   ]
  },
  {
   "cell_type": "markdown",
   "id": "2b8e469b",
   "metadata": {},
   "source": [
    "### Exercise 1: \n",
    "1. play with the points and see what happens\n",
    "2. create two examples:\n",
    "    - Where cosine similarity is 1\n",
    "    - Where cosine similarity is 0"
   ]
  },
  {
   "cell_type": "code",
   "execution_count": null,
   "id": "741872e6",
   "metadata": {},
   "outputs": [],
   "source": [
    "# Result cosine similarity is 1\n",
    "\n",
    "# point 1\n",
    "p1x = 0\n",
    "p1y = 1\n",
    "\n",
    "#point 2\n",
    "p2x = 1\n",
    "p2y = 0"
   ]
  },
  {
   "cell_type": "code",
   "execution_count": null,
   "id": "3435c2b6",
   "metadata": {},
   "outputs": [],
   "source": [
    "# Result cosine similarity is 0\n",
    "\n",
    "# point 1\n",
    "p1x = 2\n",
    "p1y = 1\n",
    "\n",
    "#point 2\n",
    "p2x = 1\n",
    "p2y = 2"
   ]
  },
  {
   "cell_type": "markdown",
   "id": "beb055cc",
   "metadata": {},
   "source": [
    "## 2. Calculate cosine similarity for 2 images"
   ]
  },
  {
   "cell_type": "code",
   "execution_count": null,
   "id": "b93c5deb",
   "metadata": {},
   "outputs": [],
   "source": [
    "# first install packages! Uncomment if necessary\n",
    "%pip install torch torchvision\n",
    "%pip install git+https://github.com/openai/CLIP.git"
   ]
  },
  {
   "cell_type": "markdown",
   "id": "625fdd63",
   "metadata": {},
   "source": [
    "Here we will use two images and calculate how similar they are. \n",
    "\n",
    "To do so we'll create embeddings using CLIP. CLIP as several methods of creating embeddings, but here we'll use a standard Vision Transformer (ViT)."
   ]
  },
  {
   "cell_type": "code",
   "execution_count": null,
   "id": "1ac9110a",
   "metadata": {},
   "outputs": [],
   "source": [
    "# import packages\n",
    "from PIL import Image\n",
    "import torch\n",
    "import torch.nn as nn\n",
    "import clip\n",
    "\n",
    "#check device\n",
    "device = \"cuda\" if torch.cuda.is_available() else \"cpu\"\n",
    "\n",
    "#select embedding model\n",
    "model, preprocess = clip.load(\"ViT-B/32\", device=device)#we use a Vision Transformer (ViT) for the embeddings"
   ]
  },
  {
   "cell_type": "markdown",
   "id": "f10c5057",
   "metadata": {},
   "source": [
    "We will download the image dataset from Huggingface. Normally you do this with Hugginface Datasets package, but for now it's easier to clone the dataset as you can easily manually inspect and display the images. "
   ]
  },
  {
   "cell_type": "code",
   "execution_count": null,
   "id": "e0d86c0c",
   "metadata": {},
   "outputs": [],
   "source": [
    "!git clone https://huggingface.co/datasets/MichielBontenbal/sim_search_mini"
   ]
  },
  {
   "cell_type": "code",
   "execution_count": null,
   "id": "68bb946c",
   "metadata": {},
   "outputs": [],
   "source": [
    "ls"
   ]
  },
  {
   "cell_type": "markdown",
   "id": "ec09f74c",
   "metadata": {},
   "source": [
    "### TO DO: Manually inspect the images\n",
    "\n",
    "Open the folder 'sim_search_mini' and take a look at the images"
   ]
  },
  {
   "cell_type": "code",
   "execution_count": null,
   "id": "3fb1722a",
   "metadata": {},
   "outputs": [],
   "source": [
    "#select two images\n",
    "image1 = \"./sim_search_mini/apple1.jpg\"\n",
    "image2= \"./sim_search_mini/apple2.jpg\""
   ]
  },
  {
   "cell_type": "code",
   "execution_count": null,
   "id": "b9b24c52",
   "metadata": {},
   "outputs": [],
   "source": [
    "#Do preprocessing and create embeddings for the images\n",
    "image1_preprocess = preprocess(Image.open(image1)).unsqueeze(0).to(device)\n",
    "image1_features = model.encode_image( image1_preprocess)\n",
    "\n",
    "image2_preprocess = preprocess(Image.open(image2)).unsqueeze(0).to(device)\n",
    "image2_features = model.encode_image( image2_preprocess)"
   ]
  },
  {
   "cell_type": "markdown",
   "id": "0b917e36",
   "metadata": {},
   "source": [
    "Inspect the embeddings your created. \n",
    "Print it, the number of dimensions and the datatype"
   ]
  },
  {
   "cell_type": "code",
   "execution_count": null,
   "id": "86961965",
   "metadata": {},
   "outputs": [],
   "source": [
    "#YOUR CODE HERE\n",
    "print(image1_features)\n",
    "print(image1_features.ndim)\n",
    "print(image1_features.dtype)"
   ]
  },
  {
   "cell_type": "code",
   "execution_count": null,
   "id": "370082b4",
   "metadata": {},
   "outputs": [],
   "source": [
    "#calculate the cosine similarity\n",
    "cos = torch.nn.CosineSimilarity(dim=0)\n",
    "\n",
    "similarity = cos(image1_features[0],image2_features[0]).item()\n",
    "similarity = (similarity+1)/2\n",
    "\n",
    "print(\"Image similarity: \", similarity)"
   ]
  },
  {
   "cell_type": "markdown",
   "id": "d9f854db",
   "metadata": {},
   "source": [
    "## Exercise 2: \n",
    "Calculate cosine similarity for images apple1.jpg and elephant1.jpg.  "
   ]
  },
  {
   "cell_type": "code",
   "execution_count": null,
   "id": "cb3e0b98",
   "metadata": {},
   "outputs": [],
   "source": [
    "#YOUR CODE HERE\n"
   ]
  },
  {
   "cell_type": "markdown",
   "id": "f019f546",
   "metadata": {},
   "source": [
    "### Reflect on what you just did:\n",
    "- How high is the cosine similarity for apple/apple and apple/elephant?\n",
    "- Explain difference between apple/apple and apple/elephant."
   ]
  },
  {
   "cell_type": "markdown",
   "id": "4a3ed259",
   "metadata": {},
   "source": []
  },
  {
   "cell_type": "markdown",
   "id": "b4afc9e5",
   "metadata": {},
   "source": [
    "## 3. Find similar images with cosine similarity"
   ]
  },
  {
   "cell_type": "code",
   "execution_count": null,
   "id": "50035e32",
   "metadata": {},
   "outputs": [],
   "source": [
    "import torch\n",
    "import clip\n",
    "from PIL import Image\n",
    "import os\n",
    "import itertools\n",
    "import torch.nn as nn\n",
    "\n",
    "device = \"cuda\" if torch.cuda.is_available() else \"cpu\"\n",
    "model, preprocess = clip.load(\"ViT-B/32\", device=device)\n",
    "\n",
    "print(device)\n",
    "\n",
    "dataset_folder = './sim_search_mini/'\n",
    "\n",
    "images = []\n",
    "for root, dirs, files in os.walk(dataset_folder):\n",
    "    for file in files:\n",
    "        if file.endswith(('jpg','jpeg')):\n",
    "            images.append(  root  + '/'+ file)\n",
    "\n",
    "\n",
    "#Embedding of the input image\n",
    "original_image = './sim_search_mini/face3.jpg'\n",
    "input_image = preprocess(Image.open(original_image)).unsqueeze(0).to(device) #\n",
    "input_image_features = model.encode_image(input_image)\n",
    "\n",
    "result = {}\n",
    "for img in images:\n",
    "    with torch.no_grad():\n",
    "        image_preprocess = preprocess(Image.open(img)).unsqueeze(0).to(device)\n",
    "        image_features = model.encode_image( image_preprocess)\n",
    "        cos = torch.nn.CosineSimilarity(dim=0)\n",
    "        sim = cos(image_features[0],input_image_features[0]).item()\n",
    "        sim = (sim+1)/2\n",
    "        result[img]=sim\n",
    "\n",
    "\n",
    "sorted_value = sorted(result.items(), key=lambda x:x[1], reverse=True)\n",
    "sorted_res = dict(sorted_value)\n",
    "\n",
    "top_3 = dict(itertools.islice(sorted_res.items(), 3))\n",
    "\n",
    "print(top_3)"
   ]
  },
  {
   "cell_type": "code",
   "execution_count": null,
   "id": "832022d8",
   "metadata": {},
   "outputs": [],
   "source": [
    "#display most similar images\n",
    "from IPython.display import Image\n",
    "from IPython.display import display\n",
    "\n",
    "original_image = original_image\n",
    "first = list(top_3.keys())[0]\n",
    "second = list(top_3.keys())[1]\n",
    "third = list(top_3.keys())[2]\n",
    "\n",
    "#original image\n",
    "img0 = Image(original_image, width = 400) \n",
    "\n",
    "#top 3\n",
    "img1 = Image(first, width = 400) \n",
    "img2 = Image(second, width = 400) \n",
    "img3 = Image(third, width = 400)\n",
    "\n",
    "print(\"The original image is:\")\n",
    "display(img0)\n",
    "print('The duplicate is: ')\n",
    "display(img1)\n",
    "print('And the most similar images are:')\n",
    "display(img2, img3)"
   ]
  },
  {
   "cell_type": "markdown",
   "id": "802e727b",
   "metadata": {},
   "source": [
    "## Exercise 3:\n",
    "Get the image that is least similar to the original image. "
   ]
  },
  {
   "cell_type": "code",
   "execution_count": null,
   "id": "8f24e3e1",
   "metadata": {},
   "outputs": [],
   "source": [
    "# Select the least similar image and display it\n",
    "\n",
    "#YOUR CODE HERE"
   ]
  },
  {
   "cell_type": "markdown",
   "id": "44aa710c",
   "metadata": {},
   "source": [
    "## 4. Clustering images with cosine similarity and KMeans clustering."
   ]
  },
  {
   "cell_type": "code",
   "execution_count": null,
   "id": "49c04ea8",
   "metadata": {},
   "outputs": [],
   "source": [
    "#uncomment if necessary\n",
    "#pip install scikit-learn"
   ]
  },
  {
   "cell_type": "code",
   "execution_count": null,
   "id": "329c2a5d",
   "metadata": {},
   "outputs": [],
   "source": [
    "#code to ignore warnings\n",
    "import warnings\n",
    "warnings.simplefilter('ignore')"
   ]
  },
  {
   "cell_type": "code",
   "execution_count": null,
   "id": "76f9a0a9",
   "metadata": {},
   "outputs": [],
   "source": [
    "#Function to create the embeddings for the images\n",
    "import torch\n",
    "from PIL import Image\n",
    "\n",
    "def get_image_embeddings(image1, image2):\n",
    "    global embedding1, embedding2\n",
    "    # Preprocess and encode the first image\n",
    "    image1_preprocess = preprocess(Image.open(image1)).unsqueeze(0)\n",
    "    embedding1 = model.encode_image(image1_preprocess)\n",
    "\n",
    "    # Preprocess and encode the second image\n",
    "    image2_preprocess = preprocess(Image.open(image2)).unsqueeze(0)\n",
    "    embedding2 = model.encode_image(image2_preprocess)\n",
    "\n",
    "    return embedding1, embedding2"
   ]
  },
  {
   "cell_type": "code",
   "execution_count": null,
   "id": "c17d5e13",
   "metadata": {},
   "outputs": [],
   "source": [
    "\n",
    "#Function to calculate cosine similarity\n",
    "import torch\n",
    "\n",
    "def calculate_image_similarity(embedding1, embedding2):\n",
    "    \"\"\"\n",
    "    Calculate the cosine similarity between two sets of image features.\n",
    "    \"\"\"\n",
    "    global similarity\n",
    "    \n",
    "    # Create a cosine similarity module\n",
    "    cos = torch.nn.CosineSimilarity(dim=0)\n",
    "\n",
    "    # Calculate the cosine similarity between the first features of each image\n",
    "    similarity = cos(embedding1[0], embedding2[0]).item()\n",
    "\n",
    "    # Scale the similarity to the range [0, 1]\n",
    "    similarity = (similarity + 1) / 2\n",
    "    #print(round(similarity,8))\n",
    "    return similarity"
   ]
  },
  {
   "cell_type": "code",
   "execution_count": null,
   "id": "5a1e02d0",
   "metadata": {},
   "outputs": [],
   "source": [
    "#select the images you want to use\n",
    "#images_list = ['./images/apple1.jpg', './images/apple2.jpg', './images/banana1.jpg', './images/banana2.jpg', './images/face1.jpg','./images/face2.jpg']\n",
    "\n",
    "dataset_folder = './sim_search_mini/'\n",
    "\n",
    "images_list = []\n",
    "for root, dirs, files in os.walk(dataset_folder):\n",
    "    for file in files:\n",
    "        if file.endswith(('jpg','jpeg')):\n",
    "            images_list.append(  root  + '/'+ file)\n",
    "images_list"
   ]
  },
  {
   "cell_type": "code",
   "execution_count": null,
   "id": "10bf4d4e",
   "metadata": {},
   "outputs": [],
   "source": [
    "#calculate the cosine similarity to each image in the list. This may take some time like 2 min or longer.\n",
    "cos_sim_list =[]\n",
    "for i in range(len(images_list)):\n",
    "    image1 = images_list[i]\n",
    "    for j in range(len(images_list)):\n",
    "        image2 = images_list[j]\n",
    "        get_image_embeddings(image1, image2)\n",
    "        calculate_image_similarity(embedding1, embedding2)\n",
    "        cos_sim_list.append(similarity)\n",
    "\n",
    "print(cos_sim_list)\n"
   ]
  },
  {
   "cell_type": "code",
   "execution_count": null,
   "id": "82bd73f5",
   "metadata": {},
   "outputs": [],
   "source": [
    "#convert this list to a numpy array\n",
    "import numpy as np\n",
    "num_rows = len(images_list)\n",
    "cosine_similarity_matrix = np.array(cos_sim_list).reshape(num_rows, -1)\n",
    "cosine_similarity_matrix"
   ]
  },
  {
   "cell_type": "code",
   "execution_count": null,
   "id": "d3888f10",
   "metadata": {},
   "outputs": [],
   "source": [
    "## Exercise 4\n",
    "For KMeans you'll have to set the number of clusters manuall. \n",
    "Do so in the code below by replacing the question mark. \n"
   ]
  },
  {
   "cell_type": "code",
   "execution_count": null,
   "id": "92a157fe",
   "metadata": {},
   "outputs": [],
   "source": [
    "# Do the clustering with the K-Means algo and show it using Matplotlib. \n",
    "# Warning: this is a little different because we do clustering based on 1 Dimension (instead of 2 or more)\n",
    "import numpy as np\n",
    "from sklearn.cluster import KMeans\n",
    "import matplotlib.pyplot as plt\n",
    "\n",
    "# Convert cosine similarity to distance (1 - similarity)\n",
    "distance_matrix = 1 - cosine_similarity_matrix\n",
    "\n",
    "# Choose the number of clusters (k)\n",
    "num_clusters = ?\n",
    "\n",
    "# Perform K-Means clustering\n",
    "kmeans = KMeans(n_clusters=num_clusters)\n",
    "kmeans.fit(distance_matrix)\n",
    "\n",
    "# Get cluster labels\n",
    "labels = kmeans.labels_\n",
    "\n",
    "# Print the cluster assignments\n",
    "for i, label in enumerate(labels):\n",
    "    print(f\"Image {i} is in cluster {label}\")\n",
    "\n",
    "# Optional: Visualize the clustering result\n",
    "# Here we assume you have 2D data, for visualization purposes only\n",
    "plt.scatter(distance_matrix[:, 0], distance_matrix[:, 1], c=labels)\n",
    "plt.title('Clustering of Images based on Cosine Similarity')\n",
    "plt.xlabel('Dimension 1')\n",
    "plt.ylabel('Dimension 2')\n",
    "plt.show()"
   ]
  },
  {
   "cell_type": "code",
   "execution_count": null,
   "id": "d7470b27",
   "metadata": {},
   "outputs": [],
   "source": [
    "#create a result list and merge it with the images_list to check your result manually\n",
    "result_list = []\n",
    "for i, label in enumerate(labels):\n",
    "    #print(f\"Image {i} is in cluster {label}\")\n",
    "    result_list.append(label)\n",
    "result_list\n",
    "\n",
    "# Merge the lists into a dictionary\n",
    "merged_dict = dict(zip(images_list, result_list))\n",
    "\n",
    "# Print the resulting dictionary\n",
    "print(merged_dict)"
   ]
  },
  {
   "cell_type": "markdown",
   "id": "cf183e06",
   "metadata": {},
   "source": [
    "## Conclusion\n",
    "We've succesfully clustered a set of diverse images. To achieve this, we have calculated the cosine similartity for each image to the others. We've used a standerd KMeans clustering algorith to cluster the images and used Matplotlib to plot the results."
   ]
  },
  {
   "cell_type": "markdown",
   "id": "635eeaf3",
   "metadata": {},
   "source": [
    "### Reflection questions\n",
    "\n",
    "#### 1. Write down the steps you did to get to the clustering in your own words.\n",
    "\n",
    "\n",
    "#### 2. Describe an embedding in your own words\n",
    "\n",
    "\n",
    "\n",
    "#### 3: Hard question. How can we speed up the calculation of the cosine similarity?\n",
    "Hint: check the datatype of the embedding. \n",
    "\n",
    "\n",
    "\n"
   ]
  },
  {
   "cell_type": "markdown",
   "id": "b263a58a",
   "metadata": {},
   "source": []
  }
 ],
 "metadata": {
  "kernelspec": {
   "display_name": "Python 3",
   "language": "python",
   "name": "python3"
  },
  "language_info": {
   "codemirror_mode": {
    "name": "ipython",
    "version": 3
   },
   "file_extension": ".py",
   "mimetype": "text/x-python",
   "name": "python",
   "nbconvert_exporter": "python",
   "pygments_lexer": "ipython3",
   "version": "3.10.6"
  }
 },
 "nbformat": 4,
 "nbformat_minor": 5
}
